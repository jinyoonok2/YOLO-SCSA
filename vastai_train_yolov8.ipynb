{
 "cells": [
  {
   "cell_type": "markdown",
   "id": "9fe14fb7",
   "metadata": {},
   "source": [
    "# 1. Test Modules"
   ]
  },
  {
   "cell_type": "code",
   "execution_count": 1,
   "id": "4159c59a2bddd007",
   "metadata": {
    "collapsed": false,
    "jupyter": {
     "outputs_hidden": false
    }
   },
   "outputs": [],
   "source": [
    "import os\n",
    "import zipfile"
   ]
  },
  {
   "cell_type": "code",
   "execution_count": 2,
   "id": "a313c1c2",
   "metadata": {},
   "outputs": [
    {
     "name": "stdout",
     "output_type": "stream",
     "text": [
      "Files extracted to /workspace/datasets\n"
     ]
    }
   ],
   "source": [
    "zip_file_path_dataset = '/workspace/datasets.zip'\n",
    "extract_to_dir_dataset = '/workspace/datasets'\n",
    "os.makedirs(extract_to_dir_dataset, exist_ok=True)\n",
    "with zipfile.ZipFile(zip_file_path_dataset, 'r') as zip_ref:\n",
    "    zip_ref.extractall(extract_to_dir_dataset)\n",
    "print(f'Files extracted to {extract_to_dir_dataset}')"
   ]
  },
  {
   "cell_type": "code",
   "execution_count": 5,
   "id": "2a2e1150",
   "metadata": {},
   "outputs": [
    {
     "name": "stdout",
     "output_type": "stream",
     "text": [
      "Files extracted to /workspace/ultralytics\n"
     ]
    }
   ],
   "source": [
    "zip_file_path_ultra = '/workspace/ultralytics.zip'\n",
    "extract_to_dir_ultra = '/workspace/ultralytics'\n",
    "os.makedirs(extract_to_dir_ultra, exist_ok=True)\n",
    "with zipfile.ZipFile(zip_file_path_ultra, 'r') as zip_ref:\n",
    "    zip_ref.extractall(extract_to_dir_ultra)\n",
    "print(f'Files extracted to {extract_to_dir_ultra}')"
   ]
  },
  {
   "cell_type": "code",
   "execution_count": 4,
   "id": "3e052f14",
   "metadata": {},
   "outputs": [
    {
     "name": "stdout",
     "output_type": "stream",
     "text": [
      "\u001b[33mWARNING: Running pip as the 'root' user can result in broken permissions and conflicting behaviour with the system package manager. It is recommended to use a virtual environment instead: https://pip.pypa.io/warnings/venv\u001b[0m\u001b[33m\n",
      "\u001b[0m"
     ]
    }
   ],
   "source": [
    "!pip install opencv-python-headless matplotlib timm scipy pandas -q"
   ]
  },
  {
   "cell_type": "code",
   "execution_count": 2,
   "id": "e3c0b97f",
   "metadata": {},
   "outputs": [],
   "source": [
    "from ultralytics import YOLO\n",
    "YAML_PATH = \"./datasets/data_vast.yaml\""
   ]
  },
  {
   "cell_type": "code",
   "execution_count": null,
   "id": "4d37a4e6",
   "metadata": {},
   "outputs": [],
   "source": [
    "model_path = r\"./ultralytics/cfg/models/v8/yolov8s.yaml\"\n",
    "model = YOLO(model_path)\n",
    "model.train(data=YAML_PATH, imgsz=512, epochs=100, name='Basic(s)', project='./logs')"
   ]
  },
  {
   "cell_type": "code",
   "execution_count": null,
   "id": "57bb31dd",
   "metadata": {},
   "outputs": [],
   "source": [
    "model_path = r\"./ultralytics/cfg/models/v8/yolov8m.yaml\"\n",
    "model = YOLO(model_path)\n",
    "model.train(data=YAML_PATH, imgsz=512, epochs=100, name='Basic(m)', project='./logs')"
   ]
  },
  {
   "cell_type": "code",
   "execution_count": null,
   "id": "b900a615",
   "metadata": {},
   "outputs": [],
   "source": [
    "model_path = r\"./ultralytics/cfg/models/v8/yolov8s_SA.yaml\"\n",
    "model = YOLO(model_path)\n",
    "model.train(data=YAML_PATH, imgsz=512, epochs=100, name='SA(s)', project='./logs')"
   ]
  },
  {
   "cell_type": "code",
   "execution_count": null,
   "id": "a2c2be1f",
   "metadata": {},
   "outputs": [],
   "source": [
    "model_path = r\"./ultralytics/cfg/models/v8/yolov8m_SA.yaml\"\n",
    "model = YOLO(model_path)\n",
    "model.train(data=YAML_PATH, imgsz=512, epochs=100, name='SA(m)', project='./logs')"
   ]
  },
  {
   "cell_type": "code",
   "execution_count": null,
   "id": "8419d832",
   "metadata": {},
   "outputs": [],
   "source": [
    "model_path = r\"./ultralytics/cfg/models/v8/yolov8s_CA.yaml\"\n",
    "model = YOLO(model_path)\n",
    "model.train(data=YAML_PATH, imgsz=512, epochs=100, name='CA(s)', project='./logs')"
   ]
  },
  {
   "cell_type": "code",
   "execution_count": null,
   "id": "bb2f544f",
   "metadata": {},
   "outputs": [],
   "source": [
    "model_path = r\"./ultralytics/cfg/models/v8/yolov8m_CA.yaml\"\n",
    "model = YOLO(model_path)\n",
    "model.train(data=YAML_PATH, imgsz=512, epochs=100, name='CA(m)', project='./logs')"
   ]
  },
  {
   "cell_type": "code",
   "execution_count": null,
   "id": "f741354b",
   "metadata": {},
   "outputs": [],
   "source": [
    "model_path = r\"./ultralytics/cfg/models/v8/yolov8s_ResBlockCBAM.yaml\"\n",
    "model = YOLO(model_path)\n",
    "model.train(data=YAML_PATH, imgsz=512, epochs=100, name='ResBlockCBAM(s)', project='./logs')"
   ]
  },
  {
   "cell_type": "code",
   "execution_count": null,
   "id": "2d68d1e9",
   "metadata": {},
   "outputs": [],
   "source": [
    "model_path = r\"./ultralytics/cfg/models/v8/yolov8m_ResBlockCBAM.yaml\"\n",
    "model = YOLO(model_path)\n",
    "model.train(data=YAML_PATH, imgsz=512, epochs=100, name='ResBlockCBAM(m)', project='./logs')"
   ]
  },
  {
   "cell_type": "code",
   "execution_count": null,
   "id": "b351d574",
   "metadata": {},
   "outputs": [],
   "source": [
    "model_path = r\"./ultralytics/cfg/models/v8/yolov8s_SCSA.yaml\"\n",
    "model = YOLO(model_path)\n",
    "model.train(data=YAML_PATH, imgsz=512, epochs=100, name='SCSA(s)', project='./logs')"
   ]
  },
  {
   "cell_type": "code",
   "execution_count": null,
   "id": "27003901",
   "metadata": {},
   "outputs": [],
   "source": [
    "model_path = r\"./ultralytics/cfg/models/v8/yolov8m_SCSA.yaml\"\n",
    "model = YOLO(model_path)\n",
    "model.train(data=YAML_PATH, imgsz=512, epochs=100, name='SCSA(m)', project='./logs')"
   ]
  }
 ],
 "metadata": {
  "kernelspec": {
   "display_name": "Python 3 (ipykernel)",
   "language": "python",
   "name": "python3"
  },
  "language_info": {
   "codemirror_mode": {
    "name": "ipython",
    "version": 3
   },
   "file_extension": ".py",
   "mimetype": "text/x-python",
   "name": "python",
   "nbconvert_exporter": "python",
   "pygments_lexer": "ipython3",
   "version": "3.10.13"
  }
 },
 "nbformat": 4,
 "nbformat_minor": 5
}
